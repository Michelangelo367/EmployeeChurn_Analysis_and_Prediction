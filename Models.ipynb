{
 "cells": [
  {
   "cell_type": "markdown",
   "metadata": {},
   "source": [
    "### Import Packages"
   ]
  },
  {
   "cell_type": "code",
   "execution_count": 1,
   "metadata": {},
   "outputs": [],
   "source": [
    "#Pandas Packages\n",
    "import pandas as pd\n",
    "import matplotlib\n",
    "import numpy as np\n",
    "from sklearn.model_selection import train_test_split\n",
    "from sklearn.ensemble import RandomForestClassifier\n",
    "from sklearn.metrics import accuracy_score\n",
    "from sklearn.model_selection import train_test_split\n",
    "from sklearn.linear_model import LogisticRegression\n",
    "from sklearn.ensemble import GradientBoostingClassifier\n",
    "#from sklearn.cross_validation import cross_val_score\n",
    "from sklearn import preprocessing\n",
    "from sklearn.neural_network import MLPClassifier\n",
    "from sklearn import svm\n",
    "from sklearn.svm import SVC\n",
    "import matplotlib.pyplot as plt \n",
    "from sklearn.ensemble import GradientBoostingRegressor"
   ]
  },
  {
   "cell_type": "markdown",
   "metadata": {},
   "source": [
    "### Import File"
   ]
  },
  {
   "cell_type": "code",
   "execution_count": 2,
   "metadata": {},
   "outputs": [],
   "source": [
    "#Importing Train File \n",
    "data= pd.read_csv(\"Employeechurn.csv\")\n",
    "del data['EmployeeNumber']"
   ]
  },
  {
   "cell_type": "code",
   "execution_count": 46,
   "metadata": {},
   "outputs": [],
   "source": [
    "#Convert the string data to int (LabelEncoding)\n",
    "le = preprocessing.LabelEncoder()"
   ]
  },
  {
   "cell_type": "code",
   "execution_count": 4,
   "metadata": {},
   "outputs": [],
   "source": [
    "convert = data.apply(le.fit_transform)"
   ]
  },
  {
   "cell_type": "code",
   "execution_count": 5,
   "metadata": {},
   "outputs": [],
   "source": [
    "dataset = convert.values"
   ]
  },
  {
   "cell_type": "code",
   "execution_count": 6,
   "metadata": {},
   "outputs": [],
   "source": [
    "x=dataset[:,1:] #Independent Variable\n",
    "y=dataset[:,0] #Dependent Variable"
   ]
  },
  {
   "cell_type": "code",
   "execution_count": 7,
   "metadata": {},
   "outputs": [],
   "source": [
    "#Splitting of Data \n",
    "x_train, x_test, y_train, y_test = train_test_split(x, y, test_size=0.30)"
   ]
  },
  {
   "cell_type": "code",
   "execution_count": 8,
   "metadata": {},
   "outputs": [],
   "source": [
    "features = data.columns[[i for i in range(1,34)]]"
   ]
  },
  {
   "cell_type": "code",
   "execution_count": 11,
   "metadata": {},
   "outputs": [
    {
     "name": "stdout",
     "output_type": "stream",
     "text": [
      "\n",
      " Logistic Regression Classifier Parameter Selection \n",
      "\n",
      "Max_iter :  0 , Accuracy :  0.8483965014577259\n",
      "Max_iter :  100 , Accuracy :  0.8794946550048591\n",
      "Max_iter :  200 , Accuracy :  0.8794946550048591\n",
      "Max_iter :  300 , Accuracy :  0.8794946550048591\n",
      "Max_iter :  400 , Accuracy :  0.8794946550048591\n",
      "Max_iter :  500 , Accuracy :  0.8794946550048591\n",
      "Max_iter :  600 , Accuracy :  0.8794946550048591\n",
      "Max_iter :  700 , Accuracy :  0.8794946550048591\n",
      "Max_iter :  800 , Accuracy :  0.8794946550048591\n",
      "Max_iter :  900 , Accuracy :  0.8794946550048591\n",
      "\n",
      " Random Forest Parameter Selection \n",
      "\n",
      "n_estimators : "
     ]
    },
    {
     "name": "stderr",
     "output_type": "stream",
     "text": [
      "C:\\Users\\akshe\\AppData\\Local\\Continuum\\anaconda3\\lib\\site-packages\\sklearn\\linear_model\\logistic.py:432: FutureWarning: Default solver will be changed to 'lbfgs' in 0.22. Specify a solver to silence this warning.\n",
      "  FutureWarning)\n",
      "C:\\Users\\akshe\\AppData\\Local\\Continuum\\anaconda3\\lib\\site-packages\\sklearn\\svm\\base.py:929: ConvergenceWarning: Liblinear failed to converge, increase the number of iterations.\n",
      "  \"the number of iterations.\", ConvergenceWarning)\n",
      "C:\\Users\\akshe\\AppData\\Local\\Continuum\\anaconda3\\lib\\site-packages\\sklearn\\linear_model\\logistic.py:432: FutureWarning: Default solver will be changed to 'lbfgs' in 0.22. Specify a solver to silence this warning.\n",
      "  FutureWarning)\n",
      "C:\\Users\\akshe\\AppData\\Local\\Continuum\\anaconda3\\lib\\site-packages\\sklearn\\linear_model\\logistic.py:432: FutureWarning: Default solver will be changed to 'lbfgs' in 0.22. Specify a solver to silence this warning.\n",
      "  FutureWarning)\n",
      "C:\\Users\\akshe\\AppData\\Local\\Continuum\\anaconda3\\lib\\site-packages\\sklearn\\linear_model\\logistic.py:432: FutureWarning: Default solver will be changed to 'lbfgs' in 0.22. Specify a solver to silence this warning.\n",
      "  FutureWarning)\n",
      "C:\\Users\\akshe\\AppData\\Local\\Continuum\\anaconda3\\lib\\site-packages\\sklearn\\linear_model\\logistic.py:432: FutureWarning: Default solver will be changed to 'lbfgs' in 0.22. Specify a solver to silence this warning.\n",
      "  FutureWarning)\n",
      "C:\\Users\\akshe\\AppData\\Local\\Continuum\\anaconda3\\lib\\site-packages\\sklearn\\linear_model\\logistic.py:432: FutureWarning: Default solver will be changed to 'lbfgs' in 0.22. Specify a solver to silence this warning.\n",
      "  FutureWarning)\n",
      "C:\\Users\\akshe\\AppData\\Local\\Continuum\\anaconda3\\lib\\site-packages\\sklearn\\linear_model\\logistic.py:432: FutureWarning: Default solver will be changed to 'lbfgs' in 0.22. Specify a solver to silence this warning.\n",
      "  FutureWarning)\n",
      "C:\\Users\\akshe\\AppData\\Local\\Continuum\\anaconda3\\lib\\site-packages\\sklearn\\linear_model\\logistic.py:432: FutureWarning: Default solver will be changed to 'lbfgs' in 0.22. Specify a solver to silence this warning.\n",
      "  FutureWarning)\n",
      "C:\\Users\\akshe\\AppData\\Local\\Continuum\\anaconda3\\lib\\site-packages\\sklearn\\linear_model\\logistic.py:432: FutureWarning: Default solver will be changed to 'lbfgs' in 0.22. Specify a solver to silence this warning.\n",
      "  FutureWarning)\n",
      "C:\\Users\\akshe\\AppData\\Local\\Continuum\\anaconda3\\lib\\site-packages\\sklearn\\linear_model\\logistic.py:432: FutureWarning: Default solver will be changed to 'lbfgs' in 0.22. Specify a solver to silence this warning.\n",
      "  FutureWarning)\n"
     ]
    },
    {
     "name": "stdout",
     "output_type": "stream",
     "text": [
      " 30 min_samples_leaf : 70 , Accuracy :  0.8483965014577259\n",
      "n_estimators :  30 min_samples_leaf : 140 , Accuracy :  0.8483965014577259\n",
      "n_estimators :  30 min_samples_leaf : 210 , Accuracy :  0.8483965014577259\n",
      "n_estimators :  30 min_samples_leaf : 280 , Accuracy :  0.8483965014577259\n",
      "n_estimators :  30 min_samples_leaf : 350 , Accuracy :  0.8483965014577259\n",
      "n_estimators :  30 min_samples_leaf : 420 , Accuracy :  0.8483965014577259\n",
      "n_estimators :  30 min_samples_leaf : 490 , Accuracy :  0.8483965014577259\n",
      "n_estimators :  30 min_samples_leaf : 560 , Accuracy :  0.8483965014577259\n",
      "n_estimators :  30 min_samples_leaf : 630 , Accuracy :  0.8483965014577259\n",
      "n_estimators :  30 min_samples_leaf : 700 , Accuracy :  0.8483965014577259\n",
      "n_estimators :  30 min_samples_leaf : 770 , Accuracy :  0.8483965014577259\n",
      "n_estimators :  30 min_samples_leaf : 840 , Accuracy :  0.8483965014577259\n",
      "n_estimators :  30 min_samples_leaf : 910 , Accuracy :  0.8483965014577259\n",
      "n_estimators :  30 min_samples_leaf : 980 , Accuracy :  0.8483965014577259\n",
      "n_estimators :  30 min_samples_leaf : 1050 , Accuracy :  0.8483965014577259\n",
      "n_estimators :  30 min_samples_leaf : 1120 , Accuracy :  0.8483965014577259\n",
      "n_estimators :  30 min_samples_leaf : 1190 , Accuracy :  0.8483965014577259\n",
      "n_estimators :  30 min_samples_leaf : 1260 , Accuracy :  0.8483965014577259\n",
      "n_estimators :  30 min_samples_leaf : 1330 , Accuracy :  0.8483965014577259\n",
      "n_estimators :  30 min_samples_leaf : 1400 , Accuracy :  0.8483965014577259\n",
      "n_estimators :  25 min_samples_leaf : 70 , Accuracy :  0.8483965014577259\n",
      "n_estimators :  25 min_samples_leaf : 140 , Accuracy :  0.8483965014577259\n",
      "n_estimators :  25 min_samples_leaf : 210 , Accuracy :  0.8483965014577259\n",
      "n_estimators :  25 min_samples_leaf : 280 , Accuracy :  0.8483965014577259\n",
      "n_estimators :  25 min_samples_leaf : 350 , Accuracy :  0.8483965014577259\n",
      "n_estimators :  25 min_samples_leaf : 420 , Accuracy :  0.8483965014577259\n",
      "n_estimators :  25 min_samples_leaf : 490 , Accuracy :  0.8483965014577259\n",
      "n_estimators :  25 min_samples_leaf : 560 , Accuracy :  0.8483965014577259\n",
      "n_estimators :  25 min_samples_leaf : 630 , Accuracy :  0.8483965014577259\n",
      "n_estimators :  25 min_samples_leaf : 700 , Accuracy :  0.8483965014577259\n",
      "n_estimators :  25 min_samples_leaf : 770 , Accuracy :  0.8483965014577259\n",
      "n_estimators :  25 min_samples_leaf : 840 , Accuracy :  0.8483965014577259\n",
      "n_estimators :  25 min_samples_leaf : 910 , Accuracy :  0.8483965014577259\n",
      "n_estimators :  25 min_samples_leaf : 980 , Accuracy :  0.8483965014577259\n",
      "n_estimators :  25 min_samples_leaf : 1050 , Accuracy :  0.8483965014577259\n",
      "n_estimators :  25 min_samples_leaf : 1120 , Accuracy :  0.8483965014577259\n",
      "n_estimators :  25 min_samples_leaf : 1190 , Accuracy :  0.8483965014577259\n",
      "n_estimators :  25 min_samples_leaf : 1260 , Accuracy :  0.8483965014577259\n",
      "n_estimators :  25 min_samples_leaf : 1330 , Accuracy :  0.8483965014577259\n",
      "n_estimators :  25 min_samples_leaf : 1400 , Accuracy :  0.8483965014577259\n",
      "n_estimators :  20 min_samples_leaf : 70 , Accuracy :  0.8483965014577259\n",
      "n_estimators :  20 min_samples_leaf : 140 , Accuracy :  0.8483965014577259\n",
      "n_estimators :  20 min_samples_leaf : 210 , Accuracy :  0.8483965014577259\n",
      "n_estimators :  20 min_samples_leaf : 280 , Accuracy :  0.8483965014577259\n",
      "n_estimators :  20 min_samples_leaf : 350 , Accuracy :  0.8483965014577259\n",
      "n_estimators :  20 min_samples_leaf : 420 , Accuracy :  0.8483965014577259\n",
      "n_estimators :  20 min_samples_leaf : 490 , Accuracy :  0.8483965014577259\n",
      "n_estimators :  20 min_samples_leaf : 560 , Accuracy :  0.8483965014577259\n",
      "n_estimators :  20 min_samples_leaf : 630 , Accuracy :  0.8483965014577259\n",
      "n_estimators :  20 min_samples_leaf : 700 , Accuracy :  0.8483965014577259\n",
      "n_estimators :  20 min_samples_leaf : 770 , Accuracy :  0.8483965014577259\n",
      "n_estimators :  20 min_samples_leaf : 840 , Accuracy :  0.8483965014577259\n",
      "n_estimators :  20 min_samples_leaf : 910 , Accuracy :  0.8483965014577259\n",
      "n_estimators :  20 min_samples_leaf : 980 , Accuracy :  0.8483965014577259\n",
      "n_estimators :  20 min_samples_leaf : 1050 , Accuracy :  0.8483965014577259\n",
      "n_estimators :  20 min_samples_leaf : 1120 , Accuracy :  0.8483965014577259\n",
      "n_estimators :  20 min_samples_leaf : 1190 , Accuracy :  0.8483965014577259\n",
      "n_estimators :  20 min_samples_leaf : 1260 , Accuracy :  0.8483965014577259\n",
      "n_estimators :  20 min_samples_leaf : 1330 , Accuracy :  0.8483965014577259\n",
      "n_estimators :  20 min_samples_leaf : 1400 , Accuracy :  0.8483965014577259\n",
      "n_estimators :  15 min_samples_leaf : 70 , Accuracy :  0.8483965014577259\n",
      "n_estimators :  15 min_samples_leaf : 140 , Accuracy :  0.8483965014577259\n",
      "n_estimators :  15 min_samples_leaf : 210 , Accuracy :  0.8483965014577259\n",
      "n_estimators :  15 min_samples_leaf : 280 , Accuracy :  0.8483965014577259\n",
      "n_estimators :  15 min_samples_leaf : 350 , Accuracy :  0.8483965014577259\n",
      "n_estimators :  15 min_samples_leaf : 420 , Accuracy :  0.8483965014577259\n",
      "n_estimators :  15 min_samples_leaf : 490 , Accuracy :  0.8483965014577259\n",
      "n_estimators :  15 min_samples_leaf : 560 , Accuracy :  0.8483965014577259\n",
      "n_estimators :  15 min_samples_leaf : 630 , Accuracy :  0.8483965014577259\n",
      "n_estimators :  15 min_samples_leaf : 700 , Accuracy :  0.8483965014577259\n",
      "n_estimators :  15 min_samples_leaf : 770 , Accuracy :  0.8483965014577259\n",
      "n_estimators :  15 min_samples_leaf : 840 , Accuracy :  0.8483965014577259\n",
      "n_estimators :  15 min_samples_leaf : 910 , Accuracy :  0.8483965014577259\n",
      "n_estimators :  15 min_samples_leaf : 980 , Accuracy :  0.8483965014577259\n",
      "n_estimators :  15 min_samples_leaf : 1050 , Accuracy :  0.8483965014577259\n",
      "n_estimators :  15 min_samples_leaf : 1120 , Accuracy :  0.8483965014577259\n",
      "n_estimators :  15 min_samples_leaf : 1190 , Accuracy :  0.8483965014577259\n",
      "n_estimators :  15 min_samples_leaf : 1260 , Accuracy :  0.8483965014577259\n",
      "n_estimators :  15 min_samples_leaf : 1330 , Accuracy :  0.8483965014577259\n",
      "n_estimators :  15 min_samples_leaf : 1400 , Accuracy :  0.8483965014577259\n",
      "n_estimators :  10 min_samples_leaf : 70 , Accuracy :  0.8483965014577259\n",
      "n_estimators :  10 min_samples_leaf : 140 , Accuracy :  0.8483965014577259\n",
      "n_estimators :  10 min_samples_leaf : 210 , Accuracy :  0.8483965014577259\n",
      "n_estimators :  10 min_samples_leaf : 280 , Accuracy :  0.8483965014577259\n",
      "n_estimators :  10 min_samples_leaf : 350 , Accuracy :  0.8483965014577259\n",
      "n_estimators :  10 min_samples_leaf : 420 , Accuracy :  0.8483965014577259\n",
      "n_estimators :  10 min_samples_leaf : 490 , Accuracy :  0.8483965014577259\n",
      "n_estimators :  10 min_samples_leaf : 560 , Accuracy :  0.8483965014577259\n",
      "n_estimators :  10 min_samples_leaf : 630 , Accuracy :  0.8483965014577259\n",
      "n_estimators :  10 min_samples_leaf : 700 , Accuracy :  0.8483965014577259\n",
      "n_estimators :  10 min_samples_leaf : 770 , Accuracy :  0.8483965014577259\n",
      "n_estimators :  10 min_samples_leaf : 840 , Accuracy :  0.8483965014577259\n",
      "n_estimators :  10 min_samples_leaf : 910 , Accuracy :  0.8483965014577259\n",
      "n_estimators :  10 min_samples_leaf : 980 , Accuracy :  0.8483965014577259\n",
      "n_estimators :  10 min_samples_leaf : 1050 , Accuracy :  0.8483965014577259\n",
      "n_estimators :  10 min_samples_leaf : 1120 , Accuracy :  0.8483965014577259\n",
      "n_estimators :  10 min_samples_leaf : 1190 , Accuracy :  0.8483965014577259\n",
      "n_estimators :  10 min_samples_leaf : 1260 , Accuracy :  0.8483965014577259\n",
      "n_estimators :  10 min_samples_leaf : 1330 , Accuracy :  0.8483965014577259\n",
      "n_estimators :  10 min_samples_leaf : 1400 , Accuracy :  0.8483965014577259\n",
      "n_estimators :  5 min_samples_leaf : 70 , Accuracy :  0.8483965014577259\n",
      "n_estimators :  5 min_samples_leaf : 140 , Accuracy :  0.8483965014577259\n",
      "n_estimators :  5 min_samples_leaf : 210 , Accuracy :  0.8483965014577259\n",
      "n_estimators :  5 min_samples_leaf : 280 , Accuracy :  0.8483965014577259\n",
      "n_estimators :  5 min_samples_leaf : 350 , Accuracy :  0.8483965014577259\n",
      "n_estimators :  5 min_samples_leaf : 420 , Accuracy :  0.8483965014577259\n",
      "n_estimators :  5 min_samples_leaf : 490 , Accuracy :  0.8483965014577259\n",
      "n_estimators :  5 min_samples_leaf : 560 , Accuracy :  0.8483965014577259\n",
      "n_estimators :  5 min_samples_leaf : 630 , Accuracy :  0.8483965014577259\n",
      "n_estimators :  5 min_samples_leaf : 700 , Accuracy :  0.8483965014577259\n",
      "n_estimators :  5 min_samples_leaf : 770 , Accuracy :  0.8483965014577259\n",
      "n_estimators :  5 min_samples_leaf : 840 , Accuracy :  0.8483965014577259\n",
      "n_estimators :  5 min_samples_leaf : 910 , Accuracy :  0.8483965014577259\n",
      "n_estimators :  5 min_samples_leaf : 980 , Accuracy :  0.8483965014577259\n",
      "n_estimators :  5 min_samples_leaf : 1050 , Accuracy :  0.8483965014577259\n",
      "n_estimators :  5 min_samples_leaf : 1120 , Accuracy :  0.8483965014577259\n",
      "n_estimators :  5 min_samples_leaf : 1190 , Accuracy :  0.8483965014577259\n",
      "n_estimators :  5 min_samples_leaf : 1260 , Accuracy :  0.8483965014577259\n",
      "n_estimators :  5 min_samples_leaf : 1330 , Accuracy :  0.8483965014577259\n",
      "n_estimators :  5 min_samples_leaf : 1400 , Accuracy :  0.8483965014577259\n",
      "\n",
      " Gradient Boosting Parameter Selection \n",
      "\n",
      "n_estimators :  30 , Accuracy :  0.891156462585034\n"
     ]
    },
    {
     "name": "stdout",
     "output_type": "stream",
     "text": [
      "n_estimators :  25 , Accuracy :  0.8843537414965986\n",
      "n_estimators :  20 , Accuracy :  0.8746355685131195\n",
      "n_estimators :  15 , Accuracy :  0.8658892128279884\n",
      "n_estimators :  10 , Accuracy :  0.8561710398445093\n",
      "n_estimators :  5 , Accuracy :  0.8483965014577259\n",
      "\n",
      " Nueral Nets Parameter Selection \n",
      "\n",
      "max_iter :  1 , Accuracy :  0.8396501457725948\n"
     ]
    },
    {
     "name": "stderr",
     "output_type": "stream",
     "text": [
      "C:\\Users\\akshe\\AppData\\Local\\Continuum\\anaconda3\\lib\\site-packages\\sklearn\\neural_network\\multilayer_perceptron.py:566: ConvergenceWarning: Stochastic Optimizer: Maximum iterations (1) reached and the optimization hasn't converged yet.\n",
      "  % self.max_iter, ConvergenceWarning)\n"
     ]
    },
    {
     "name": "stdout",
     "output_type": "stream",
     "text": [
      "max_iter :  101 , Accuracy :  0.8658892128279884\n",
      "max_iter :  201 , Accuracy :  0.8658892128279884\n",
      "max_iter :  301 , Accuracy :  0.8658892128279884\n",
      "max_iter :  401 , Accuracy :  0.8658892128279884\n",
      "max_iter :  501 , Accuracy :  0.8658892128279884\n",
      "max_iter :  601 , Accuracy :  0.8658892128279884\n",
      "max_iter :  701 , Accuracy :  0.8658892128279884\n",
      "max_iter :  801 , Accuracy :  0.8658892128279884\n",
      "max_iter :  901 , Accuracy :  0.8658892128279884\n"
     ]
    }
   ],
   "source": [
    "#Parameters Selection Grid \n",
    "print(\"\\n\",\"Logistic Regression Classifier Parameter Selection\",\"\\n\")\n",
    "\n",
    "for i in range(0,1000,100):\n",
    "    def log_classifier(features,target):\n",
    "        \"\"\"Logistic Regression Classifier\n",
    "        max_iter = maximum number of iterations\"\"\"\n",
    "        logReg = LogisticRegression(random_state=46,max_iter = i)\n",
    "        log_trained_model = logReg.fit(x_train, y_train)\n",
    "        return logReg\n",
    "    log_trained_model = log_classifier(x_train, y_train)\n",
    "    log_predictions = log_trained_model.predict(x_train)\n",
    "    Accuracy = accuracy_score(y_train, log_predictions)\n",
    "    print(\"Max_iter : \",i,\", Accuracy : \",Accuracy)\n",
    "\n",
    "print(\"\\n\",\"Random Forest Parameter Selection\",\"\\n\")\n",
    "for i in range(30,1,-5):\n",
    "    for j in range(70,1470,70):\n",
    "        def rf_classifier(features,target):\n",
    "            \"\"\"\n",
    "            Random Forest Classifier\n",
    "            n_estimators = number of trees in the foreset\n",
    "            min_samples_leaf = min number of data points allowed in a leaf node\n",
    "            max_depth = max number of levels in each decision tree\n",
    "            \"\"\"\n",
    "            clf = RandomForestClassifier(n_estimators = i, min_samples_leaf = j, random_state = 46)\n",
    "            clf.fit(features,target)\n",
    "            return clf\n",
    "        rf_trained_model = rf_classifier(x_train, y_train)\n",
    "        rf_predictions = rf_trained_model.predict(x_train)\n",
    "        Accuracy = accuracy_score(y_train, rf_predictions)\n",
    "        print(\"n_estimators : \",i,\"min_samples_leaf :\",j,\", Accuracy : \",Accuracy)\n",
    "\n",
    "print(\"\\n\",\"Gradient Boosting Parameter Selection\",\"\\n\")\n",
    "for i in range(30,1,-5):\n",
    "    def gbm_classifier(features,target):\n",
    "        \"\"\"Gradient Boosting \"\"\"\n",
    "        clf = GradientBoostingRegressor(n_estimators = i)\n",
    "        clf.fit(features,target)\n",
    "        return clf\n",
    "    gbm_trained_model = gbm_classifier(x_train, y_train)\n",
    "    gbm_pred = gbm_trained_model.predict(x_train)\n",
    "    gbm_predictions = [int(round(value)) for value in gbm_pred]\n",
    "    Accuracy = accuracy_score(y_train, gbm_predictions)\n",
    "    print(\"n_estimators : \",i,\", Accuracy : \",Accuracy)\n",
    "    \n",
    "print(\"\\n\",\"Nueral Nets Parameter Selection\",\"\\n\")\n",
    "for i in range(1,1000,100):\n",
    "    def nn_classifier(features,target):\n",
    "        \"\"\"Neural Net Classifier\"\"\"\n",
    "        clf = MLPClassifier(hidden_layer_sizes = (40,40,40),max_iter=i,random_state=546)\n",
    "        clf.fit(features,target)\n",
    "        return clf\n",
    "    nn_trained_model = nn_classifier(x_train, y_train)\n",
    "    nn_predictions = nn_trained_model.predict(x_train)\n",
    "    Accuracy = accuracy_score(y_train, nn_predictions)\n",
    "    print(\"max_iter : \",i,\", Accuracy : \",Accuracy)"
   ]
  },
  {
   "cell_type": "code",
   "execution_count": 12,
   "metadata": {},
   "outputs": [],
   "source": [
    "#The parameter values we have chosen for all the models is providing the best possible accuracy results thus making our predictions more accurate.\n",
    "#These values are obtained by doing the simple grid search over the parameter space.\n",
    "def log_classifier(features,target):\n",
    "    \"\"\"Logistic Regression with parameter values providing best prossible accuracy\n",
    "    random_state: random_state is the seed used by the random number generator,\n",
    "    Maximum number of iterations taken for the solvers to converge.\"\"\"\n",
    "    logReg = LogisticRegression(random_state=46,max_iter = 200)\n",
    "    logReg.fit(features,target)\n",
    "    return logReg\n",
    "\n",
    "def rf_classifier(features,target):\n",
    "    \"\"\"Random Forest Classifier \n",
    "    n_estimators: list of DecisionTreeClassifier,\n",
    "    random_state: random_state is the seed used by the random number generator,\n",
    "    min_samples_leaf:The minimum number of samples required to be at a leaf node \"\"\"\n",
    "    clf = RandomForestClassifier(n_estimators = 20, min_samples_leaf = 20, random_state = 46)\n",
    "    clf.fit(features,target)\n",
    "    return clf\n",
    "\n",
    "def gbm_classifier(features,target):\n",
    "    \"\"\"This is gradient boosting model classifier.Decision trees are usually used when doing gradient boosting.\n",
    "    n_estimators: The number of boosting stages to perform.\n",
    "    random_state: random_state is the seed used by the random number generator.\n",
    "    max_depth:The maximum depth limits the number of nodes in the tree.\n",
    "    \"\"\"\n",
    "    clf = GradientBoostingRegressor(n_estimators = 30)\n",
    "    clf.fit(features,target)\n",
    "    return clf\t\n",
    "\n",
    "def nn_classifier(features,target):\n",
    "    \"\"\"Neural Net Classifier \n",
    "    MLP with hidden layers have a non-convex loss function where there exists more than one local minimum,\n",
    "    random_state: random_state is the seed used by the random number generator,\n",
    "    Maximum number of iterations taken for the solvers to converge.\n",
    "    \"\"\"\n",
    "    clf = MLPClassifier(hidden_layer_sizes = (40,40,40),max_iter=501,random_state=546)\n",
    "    clf.fit(features,target)\n",
    "    return clf\n",
    "\n",
    "##random_state: random_state is the seed used by the random number generator\n",
    "def svm_classifier(features,target):\n",
    "    clf = SVC(random_state = 400)\n",
    "    clf.fit(features,target) \n",
    "    return clf"
   ]
  },
  {
   "cell_type": "markdown",
   "metadata": {},
   "source": [
    "**Train the logistic model**"
   ]
  },
  {
   "cell_type": "code",
   "execution_count": 13,
   "metadata": {},
   "outputs": [
    {
     "name": "stderr",
     "output_type": "stream",
     "text": [
      "C:\\Users\\akshe\\AppData\\Local\\Continuum\\anaconda3\\lib\\site-packages\\sklearn\\linear_model\\logistic.py:432: FutureWarning: Default solver will be changed to 'lbfgs' in 0.22. Specify a solver to silence this warning.\n",
      "  FutureWarning)\n"
     ]
    }
   ],
   "source": [
    "log_trained_model = log_classifier(x_train, y_train)\n",
    "log_predictions = log_trained_model.predict(x_train)"
   ]
  },
  {
   "cell_type": "code",
   "execution_count": 14,
   "metadata": {},
   "outputs": [
    {
     "name": "stdout",
     "output_type": "stream",
     "text": [
      "Confusion_Matrix/precision/F1_Score for Logistic Model\n",
      "\n",
      " Predicted    0   1   All\n",
      "Actual                  \n",
      "0          852  21   873\n",
      "1          103  53   156\n",
      "All        955  74  1029\n",
      "\n",
      "Precision = 71.62162162162163 %\n",
      "\n",
      "Recall = 33.97435897435898 %\n",
      "\n",
      "F1_Score = 46.086956521739125 %\n"
     ]
    }
   ],
   "source": [
    "#Confusion_Matrix/precision/F1_Score for Logistic Model\n",
    "Confusion_Matrix = pd.crosstab(y_train,log_predictions, rownames=['Actual'], colnames=['Predicted'], margins=True)\n",
    "precision = float((Confusion_Matrix[1][1])/(Confusion_Matrix[1][1]+ Confusion_Matrix[1][0]))\n",
    "recall = float((Confusion_Matrix[1][1])/(Confusion_Matrix[1][1]+ Confusion_Matrix[0][1]))\n",
    "F1_Score = float((2 * (precision * recall) / (precision + recall)))\n",
    "print(\"Confusion_Matrix/precision/F1_Score for Logistic Model\")\n",
    "print(\"\\n\",Confusion_Matrix)\n",
    "print(\"\\nPrecision =\",precision *100,\"%\")\n",
    "print(\"\\nRecall =\", recall*100,\"%\")\n",
    "print(\"\\nF1_Score =\",F1_Score *100,\"%\")"
   ]
  },
  {
   "cell_type": "markdown",
   "metadata": {},
   "source": [
    "**Train the Random Forest model**"
   ]
  },
  {
   "cell_type": "code",
   "execution_count": 15,
   "metadata": {},
   "outputs": [],
   "source": [
    "rf_trained_model = rf_classifier(x_train, y_train)\n",
    "rf_predictions = rf_trained_model.predict(x_train)"
   ]
  },
  {
   "cell_type": "code",
   "execution_count": 16,
   "metadata": {},
   "outputs": [
    {
     "name": "stdout",
     "output_type": "stream",
     "text": [
      "Confusion_Matrix/precision/F1_Score for Logistic Model\n",
      "\n",
      " Predicted     0  1   All\n",
      "Actual                  \n",
      "0           873  0   873\n",
      "1           153  3   156\n",
      "All        1026  3  1029\n",
      "\n",
      "Precision = 100.0 %\n",
      "\n",
      "Recall = 1.9230769230769231 %\n",
      "\n",
      "F1_Score = 3.773584905660378 %\n"
     ]
    }
   ],
   "source": [
    "#Confusion_Matrix/precision/F1_Score for Random Forest Model\n",
    "# the RF model predicts very different results after this step. Hence we had to try a lot of different parameters to get a workable demo\n",
    "Confusion_Matrix = pd.crosstab(y_train,rf_predictions, rownames=['Actual'], colnames=['Predicted'], margins=True)\n",
    "precision = float((Confusion_Matrix[1][1])/(Confusion_Matrix[1][1]+ Confusion_Matrix[1][0]))\n",
    "recall = float((Confusion_Matrix[1][1])/(Confusion_Matrix[1][1]+ Confusion_Matrix[0][1]))\n",
    "F1_Score = float((2 * (precision * recall) / (precision + recall)))\n",
    "print(\"Confusion_Matrix/precision/F1_Score for Logistic Model\")\n",
    "print(\"\\n\",Confusion_Matrix)\n",
    "print(\"\\nPrecision =\",precision *100,\"%\")\n",
    "print(\"\\nRecall =\", recall*100,\"%\")\n",
    "print(\"\\nF1_Score =\",F1_Score *100,\"%\")"
   ]
  },
  {
   "cell_type": "markdown",
   "metadata": {},
   "source": [
    "**Variable Importance based on Random Forest**"
   ]
  },
  {
   "cell_type": "code",
   "execution_count": 21,
   "metadata": {},
   "outputs": [
    {
     "name": "stdout",
     "output_type": "stream",
     "text": [
      "Age = 0.08730009892864417\n",
      "BusinessTravel = 0.013857455068307772\n",
      "DailyRate = 0.03208048851514695\n",
      "Department = 0.012171653309348818\n",
      "DistanceFromHome = 0.027215279739476555\n",
      "Education = 0.010198865173286529\n",
      "EducationField = 0.0028821063232459727\n",
      "EmployeeCount = 0.0\n",
      "EnvironmentSatisfaction = 0.02361899122413335\n",
      "Gender = 0.0007400158810740562\n",
      "HourlyRate = 0.024685175377624692\n",
      "JobInvolvement = 0.014473247613575052\n",
      "JobLevel = 0.016558101483794177\n",
      "JobRole = 0.03671020536261004\n",
      "JobSatisfaction = 0.039321259878882374\n",
      "MaritalStatus = 0.033355069315100246\n",
      "MonthlyIncome = 0.06918134146593866\n",
      "MonthlyRate = 0.04263897045950162\n",
      "NumCompaniesWorked = 0.011797709643419493\n",
      "Over18 = 0.0\n",
      "OverTime = 0.11652540774852634\n",
      "PercentSalaryHike = 0.009685767194760471\n",
      "PerformanceRating = 0.0\n",
      "RelationshipSatisfaction = 0.025680786538929613\n",
      "StandardHours = 0.0\n",
      "StockOptionLevel = 0.06395266304198635\n",
      "TotalWorkingYears = 0.08981263491845516\n",
      "TrainingTimesLastYear = 0.006617991432638935\n",
      "WorkLifeBalance = 0.0252128935502558\n",
      "YearsAtCompany = 0.06984295524939257\n",
      "YearsInCurrentRole = 0.028561734498992623\n",
      "YearsSinceLastPromotion = 0.019013236262688242\n",
      "YearsWithCurrManager = 0.04630789480026337\n"
     ]
    },
    {
     "data": {
      "image/png": "[encoded data removed]",
      "text/plain": [
       "<Figure size 360x576 with 1 Axes>"
      ]
     },
     "metadata": {
      "needs_background": "light"
     },
     "output_type": "display_data"
    }
   ],
   "source": [
    "for name, importance in zip(features, rf_trained_model.feature_importances_):\n",
    "    print(name, \"=\", importance)\n",
    "importances = rf_trained_model.feature_importances_\n",
    "indices = np.argsort(importances)\n",
    "plt.title('Feature Importances')\n",
    "plt.barh(range(len(indices)), importances[indices], color='b', align='center')\n",
    "plt.yticks(range(len(indices)), features[indices])\n",
    "plt.xlabel('Relative Importance')\n",
    "fig_size = plt.rcParams[\"figure.figsize\"]\n",
    "fig_size[0] = 5\n",
    "fig_size[1] = 8\n",
    "plt.rcParams[\"figure.figsize\"] = fig_size\n",
    "plt.show()"
   ]
  },
  {
   "cell_type": "markdown",
   "metadata": {},
   "source": [
    "**Train the gbm classifier**"
   ]
  },
  {
   "cell_type": "code",
   "execution_count": 18,
   "metadata": {},
   "outputs": [],
   "source": [
    "gbm_trained_model = gbm_classifier(x_train, y_train)\n",
    "gbm_pred = gbm_trained_model.predict(x_train)\n",
    "gbm_predictions = np.array([int(round(value)) for value in gbm_pred])"
   ]
  },
  {
   "cell_type": "code",
   "execution_count": 19,
   "metadata": {},
   "outputs": [
    {
     "data": {
      "text/plain": [
       "numpy.ndarray"
      ]
     },
     "execution_count": 19,
     "metadata": {},
     "output_type": "execute_result"
    }
   ],
   "source": [
    "type(gbm_predictions)"
   ]
  },
  {
   "cell_type": "code",
   "execution_count": 47,
   "metadata": {},
   "outputs": [
    {
     "name": "stdout",
     "output_type": "stream",
     "text": [
      "Confusion_Matrix/precision/F1_Score for Random Forest Model\n",
      "\n",
      " Predicted    0   1   All\n",
      "Actual                  \n",
      "0          850   1   851\n",
      "1          121  57   178\n",
      "All        971  58  1029\n",
      "\n",
      "Precision = 98.27586206896551 %\n",
      "\n",
      "Recall = 11.797752808988763 %\n",
      "\n",
      "F1_Score = 21.06652587117212 %\n"
     ]
    }
   ],
   "source": [
    "#Confusion_Matrix/precision/F1_Score for gbm classifier Model\n",
    "Confusion_Matrix = pd.crosstab(y_train,gbm_predictions, rownames=['Actual'], colnames=['Predicted'], margins=True)\n",
    "precision = float((Confusion_Matrix[1][1])/(Confusion_Matrix[1][1]+ Confusion_Matrix[1][0]))\n",
    "F1_Score = float((2 * (precision * recall) / (precision + recall)))\n",
    "print(\"Confusion_Matrix/precision/F1_Score for Random Forest Model\")\n",
    "print(\"\\n\",Confusion_Matrix)\n",
    "print(\"\\nPrecision =\",precision *100,\"%\")\n",
    "print(\"\\nRecall =\", recall*100,\"%\")\n",
    "print(\"\\nF1_Score =\",F1_Score *100,\"%\")"
   ]
  },
  {
   "cell_type": "markdown",
   "metadata": {},
   "source": [
    "**Variable Importance Using Gradient Boosting Forest**"
   ]
  },
  {
   "cell_type": "code",
   "execution_count": 20,
   "metadata": {},
   "outputs": [
    {
     "name": "stdout",
     "output_type": "stream",
     "text": [
      "Age = 0.08756927319615346\n",
      "BusinessTravel = 0.007076048328270319\n",
      "DailyRate = 0.06873152486804517\n",
      "Department = 0.0\n",
      "DistanceFromHome = 0.07513696846712274\n",
      "Education = 0.0022799658791850972\n",
      "EducationField = 0.013642644417348374\n",
      "EmployeeCount = 0.0\n",
      "EnvironmentSatisfaction = 0.03675992338258533\n",
      "Gender = 0.0\n",
      "HourlyRate = 0.005185102848685963\n",
      "JobInvolvement = 0.030052805847447014\n",
      "JobLevel = 0.010859625478329615\n",
      "JobRole = 0.05748115135488365\n",
      "JobSatisfaction = 0.004581741459439756\n",
      "MaritalStatus = 0.007556579842894354\n",
      "MonthlyIncome = 0.12193597091818553\n",
      "MonthlyRate = 0.007120861819146626\n",
      "NumCompaniesWorked = 0.012939216612801277\n",
      "Over18 = 0.0\n",
      "OverTime = 0.13803331050812537\n",
      "PercentSalaryHike = 0.006557166055400218\n",
      "PerformanceRating = 0.0\n",
      "RelationshipSatisfaction = 0.019476160521121222\n",
      "StandardHours = 0.0\n",
      "StockOptionLevel = 0.0929998581751555\n",
      "TotalWorkingYears = 0.04761476034171274\n",
      "TrainingTimesLastYear = 0.0071792339168686705\n",
      "WorkLifeBalance = 0.03741100555820842\n",
      "YearsAtCompany = 0.046669549215545156\n",
      "YearsInCurrentRole = 0.020443092376283004\n",
      "YearsSinceLastPromotion = 0.0017777195561341876\n",
      "YearsWithCurrManager = 0.03292873905492138\n"
     ]
    },
    {
     "data": {
      "image/png": "[encoded data removed]",
      "text/plain": [
       "<Figure size 720x720 with 1 Axes>"
      ]
     },
     "metadata": {
      "needs_background": "light"
     },
     "output_type": "display_data"
    }
   ],
   "source": [
    "for name, importance in zip(features, gbm_trained_model.feature_importances_):\n",
    "    print(name, \"=\", importance)\n",
    "importances = gbm_trained_model.feature_importances_\n",
    "indices = np.argsort(importances)\n",
    "plt.title('Feature Importances')\n",
    "plt.barh(range(len(indices)), importances[indices], color='b', align='center')\n",
    "plt.yticks(range(len(indices)), features[indices])\n",
    "plt.xlabel('Relative Importance')\n",
    "fig_size = plt.rcParams[\"figure.figsize\"]\n",
    "fig_size[0] = 5\n",
    "fig_size[1] = 8\n",
    "plt.rcParams[\"figure.figsize\"] = fig_size\n",
    "plt.show()"
   ]
  },
  {
   "cell_type": "markdown",
   "metadata": {},
   "source": [
    "**Train the neural net classifier**"
   ]
  },
  {
   "cell_type": "code",
   "execution_count": 22,
   "metadata": {},
   "outputs": [],
   "source": [
    "nn_trained_model = nn_classifier(x_train, y_train)\n",
    "nn_predictions = nn_trained_model.predict(x_train)"
   ]
  },
  {
   "cell_type": "code",
   "execution_count": 23,
   "metadata": {},
   "outputs": [
    {
     "name": "stdout",
     "output_type": "stream",
     "text": [
      "Confusion_Matrix/precision/F1_Score for Neural Net Model\n",
      "\n",
      " Predicted    0   1   All\n",
      "Actual                  \n",
      "0          863  10   873\n",
      "1          128  28   156\n",
      "All        991  38  1029\n",
      "\n",
      "Precision = 73.68421052631578 %\n",
      "\n",
      "Recall = 1.9230769230769231 %\n",
      "\n",
      "F1_Score = 3.748326639892905 %\n"
     ]
    }
   ],
   "source": [
    "#Confusion_Matrix/precision/F1_Score for gbm classifier Model\n",
    "Confusion_Matrix = pd.crosstab(y_train,nn_predictions, rownames=['Actual'], colnames=['Predicted'], margins=True)\n",
    "precision = float((Confusion_Matrix[1][1])/(Confusion_Matrix[1][1]+ Confusion_Matrix[1][0]))\n",
    "F1_Score = float((2 * (precision * recall) / (precision + recall)))\n",
    "print(\"Confusion_Matrix/precision/F1_Score for Neural Net Model\")\n",
    "print(\"\\n\",Confusion_Matrix)\n",
    "print(\"\\nPrecision =\",precision *100,\"%\")\n",
    "print(\"\\nRecall =\", recall*100,\"%\")\n",
    "print(\"\\nF1_Score =\",F1_Score *100,\"%\")"
   ]
  },
  {
   "cell_type": "markdown",
   "metadata": {},
   "source": [
    "**Train the SVM classifier**"
   ]
  },
  {
   "cell_type": "code",
   "execution_count": 24,
   "metadata": {},
   "outputs": [
    {
     "name": "stderr",
     "output_type": "stream",
     "text": [
      "C:\\Users\\akshe\\AppData\\Local\\Continuum\\anaconda3\\lib\\site-packages\\sklearn\\svm\\base.py:193: FutureWarning: The default value of gamma will change from 'auto' to 'scale' in version 0.22 to account better for unscaled features. Set gamma explicitly to 'auto' or 'scale' to avoid this warning.\n",
      "  \"avoid this warning.\", FutureWarning)\n"
     ]
    }
   ],
   "source": [
    "svm_trained_model = svm_classifier(x_train, y_train)\n",
    "svm_predictions = svm_trained_model.predict(x_train)"
   ]
  },
  {
   "cell_type": "code",
   "execution_count": 25,
   "metadata": {},
   "outputs": [
    {
     "name": "stdout",
     "output_type": "stream",
     "text": [
      "Confusion_Matrix/precision/F1_Score for SVM Classifier Model\n",
      "\n",
      " Predicted    0    1   All\n",
      "Actual                   \n",
      "0          873    0   873\n",
      "1            0  156   156\n",
      "All        873  156  1029\n",
      "\n",
      "Precision = 100.0 %\n",
      "\n",
      "Recall = 1.9230769230769231 %\n",
      "\n",
      "F1_Score = 3.773584905660378 %\n"
     ]
    }
   ],
   "source": [
    "#Confusion_Matrix/precision/F1_Score for SVM classifier Model\n",
    "Confusion_Matrix = pd.crosstab(y_train,svm_predictions, rownames=['Actual'], colnames=['Predicted'], margins=True)\n",
    "precision = float((Confusion_Matrix[1][1])/(Confusion_Matrix[1][1]+ Confusion_Matrix[1][0]))\n",
    "F1_Score = float((2 * (precision * recall) / (precision + recall)))\n",
    "print(\"Confusion_Matrix/precision/F1_Score for SVM Classifier Model\")\n",
    "print(\"\\n\",Confusion_Matrix)\n",
    "print(\"\\nPrecision =\",precision *100,\"%\")\n",
    "print(\"\\nRecall =\", recall*100,\"%\")\n",
    "print(\"\\nF1_Score =\",F1_Score *100,\"%\")"
   ]
  },
  {
   "cell_type": "markdown",
   "metadata": {},
   "source": [
    "**Ensembling Method is a machine learning technique that combines several base models \n",
    "in order to produce one optimal predictive model.**\n",
    "**Bagging gets its name because it combines Bootstrapping and Aggregation to form one ensemble model.** "
   ]
  },
  {
   "cell_type": "code",
   "execution_count": 26,
   "metadata": {},
   "outputs": [],
   "source": [
    "#Data frame with predicted values\n",
    "log_predict = list(log_predictions)\n",
    "data_predict =  pd.DataFrame(log_predict)\n",
    "data_predict['log_pred'] = pd.Series(log_predict, index=data_predict.index)\n",
    "data_predict['rf_pred'] = pd.Series(list(rf_predictions), index=data_predict.index)\n",
    "data_predict['gbm_pred'] = pd.Series(list(gbm_predictions), index=data_predict.index)\n",
    "data_predict['nn_pred'] = pd.Series(list(nn_predictions), index=data_predict.index)\n",
    "data_predict['svm_pred'] = pd.Series(list(svm_predictions), index=data_predict.index)"
   ]
  },
  {
   "cell_type": "code",
   "execution_count": 27,
   "metadata": {},
   "outputs": [],
   "source": [
    "#Independent Variable\n",
    "X_train = data_predict "
   ]
  },
  {
   "cell_type": "code",
   "execution_count": 28,
   "metadata": {},
   "outputs": [],
   "source": [
    "#train the Ensemble model\n",
    "ensemble_trained_model = rf_classifier(X_train, y_train)"
   ]
  },
  {
   "cell_type": "code",
   "execution_count": 29,
   "metadata": {},
   "outputs": [],
   "source": [
    "#Predictions on Test Data \n",
    "tst_log_predictions = log_trained_model.predict(x_test)\n",
    "tst_rf_predictions = rf_trained_model.predict(x_test)\n",
    "tgbm_pred = gbm_trained_model.predict(x_test)\n",
    "tst_gbm_predictions = [int(round(value)) for value in tgbm_pred]\n",
    "tst_nn_predictions = nn_trained_model.predict(x_test)\n",
    "tst_svm_predictions = svm_trained_model.predict(x_test)"
   ]
  },
  {
   "cell_type": "code",
   "execution_count": 30,
   "metadata": {},
   "outputs": [],
   "source": [
    "#Data frame with test predicted values\n",
    "log_predict = list(tst_log_predictions)\n",
    "testdata_predict =  pd.DataFrame(log_predict)\n",
    "testdata_predict['log_pred'] = pd.Series(log_predict, index=testdata_predict.index)\n",
    "testdata_predict['rf_pred'] = pd.Series(list(tst_rf_predictions), index=testdata_predict.index)\n",
    "testdata_predict['gbm_pred'] = pd.Series(list(tst_gbm_predictions), index=testdata_predict.index)\n",
    "testdata_predict['nn_pred'] = pd.Series(list(tst_nn_predictions), index=testdata_predict.index)\n",
    "testdata_predict['svm_pred'] = pd.Series(list(tst_svm_predictions), index=testdata_predict.index)"
   ]
  },
  {
   "cell_type": "code",
   "execution_count": 31,
   "metadata": {},
   "outputs": [],
   "source": [
    "#Prediction on Test Predicted Values\n",
    "tst_ensemble_predictions = ensemble_trained_model.predict(testdata_predict)"
   ]
  },
  {
   "cell_type": "code",
   "execution_count": 32,
   "metadata": {},
   "outputs": [
    {
     "name": "stdout",
     "output_type": "stream",
     "text": [
      "Ensemble Model Test Accuracy  : 81.86%\n"
     ]
    }
   ],
   "source": [
    "Test_Ensemble_Model_Accuracy   = accuracy_score(y_test, tst_ensemble_predictions)\n",
    "print (\"Ensemble Model Test Accuracy  : %.2f%%\" %  (Test_Ensemble_Model_Accuracy * 100.0) ) "
   ]
  },
  {
   "cell_type": "code",
   "execution_count": 33,
   "metadata": {},
   "outputs": [],
   "source": [
    "#Predictions on Main Data \n",
    "fn_log_predictions = log_trained_model.predict(x)\n",
    "fn_rf_predictions = rf_trained_model.predict(x)\n",
    "fgbm_pred = gbm_trained_model.predict(x)\n",
    "fn_gbm_predictions = [int(round(value)) for value in fgbm_pred]\n",
    "fn_nn_predictions = nn_trained_model.predict(x)\n",
    "fn_svm_predictions = svm_trained_model.predict(x)\n"
   ]
  },
  {
   "cell_type": "code",
   "execution_count": 34,
   "metadata": {},
   "outputs": [],
   "source": [
    "#Data frame with final predicted values\n",
    "log_predict = list(fn_log_predictions)\n",
    "final_predict =  pd.DataFrame(log_predict)\n",
    "final_predict['log_pred'] = pd.Series(log_predict, index=final_predict.index)\n",
    "final_predict['rf_pred'] = pd.Series(list(fn_rf_predictions), index=final_predict.index)\n",
    "final_predict['gbm_pred'] = pd.Series(list(fn_gbm_predictions), index=final_predict.index)\n",
    "final_predict['nn_pred'] = pd.Series(list(fn_nn_predictions), index=final_predict.index)\n",
    "final_predict['svm_pred'] = pd.Series(list(fn_svm_predictions), index=final_predict.index)"
   ]
  },
  {
   "cell_type": "code",
   "execution_count": 35,
   "metadata": {},
   "outputs": [],
   "source": [
    "#Prediction on Test Predicted Values\n",
    "final_ensemble_predictions = ensemble_trained_model.predict(final_predict)"
   ]
  },
  {
   "cell_type": "code",
   "execution_count": 36,
   "metadata": {},
   "outputs": [
    {
     "name": "stdout",
     "output_type": "stream",
     "text": [
      "Overall Accuracy  : 94.56%\n"
     ]
    }
   ],
   "source": [
    "Accuracy   = accuracy_score(y, final_ensemble_predictions)\n",
    "print (\"Overall Accuracy  : %.2f%%\" %  (Accuracy * 100.0) ) "
   ]
  },
  {
   "cell_type": "code",
   "execution_count": 37,
   "metadata": {},
   "outputs": [],
   "source": [
    "Confusion_Matrix = pd.crosstab(final_ensemble_predictions, y, rownames=['Actual'], colnames=['Predicted'], margins=True)"
   ]
  },
  {
   "cell_type": "code",
   "execution_count": 38,
   "metadata": {
    "scrolled": true
   },
   "outputs": [
    {
     "name": "stdout",
     "output_type": "stream",
     "text": [
      "Predicted     0    1   All\n",
      "Actual                    \n",
      "0          1233   80  1313\n",
      "1             0  157   157\n",
      "All        1233  237  1470\n"
     ]
    }
   ],
   "source": [
    "print(Confusion_Matrix)"
   ]
  },
  {
   "cell_type": "code",
   "execution_count": 39,
   "metadata": {},
   "outputs": [],
   "source": [
    "precision = float((Confusion_Matrix[1][1])/(Confusion_Matrix[1][1]+ Confusion_Matrix[1][0]))"
   ]
  },
  {
   "cell_type": "code",
   "execution_count": 40,
   "metadata": {
    "scrolled": true
   },
   "outputs": [],
   "source": [
    "recall = float((Confusion_Matrix[1][1])/(Confusion_Matrix[1][1]+ Confusion_Matrix[0][1]))"
   ]
  },
  {
   "cell_type": "code",
   "execution_count": 41,
   "metadata": {},
   "outputs": [],
   "source": [
    "F1_Score = float((2 * (precision * recall) / (precision + recall)))"
   ]
  },
  {
   "cell_type": "code",
   "execution_count": 44,
   "metadata": {},
   "outputs": [
    {
     "name": "stdout",
     "output_type": "stream",
     "text": [
      "F1_Score: 79.69543147208121\n"
     ]
    }
   ],
   "source": [
    "print(\"F1_Score:\",F1_Score*100)"
   ]
  },
  {
   "cell_type": "code",
   "execution_count": null,
   "metadata": {
    "collapsed": true
   },
   "outputs": [],
   "source": []
  },
  {
   "cell_type": "code",
   "execution_count": 45,
   "metadata": {},
   "outputs": [
    {
     "name": "stdout",
     "output_type": "stream",
     "text": [
      "absl-py==0.9.0\n",
      "alabaster==0.7.12\n",
      "anaconda-client==1.7.2\n",
      "anaconda-navigator==1.9.7\n",
      "anaconda-project==0.8.3\n",
      "APScheduler==3.6.3\n",
      "asn1crypto==1.0.1\n",
      "astor==0.8.1\n",
      "astroid==2.3.1\n",
      "astropy==3.2.1\n",
      "atomicwrites==1.3.0\n",
      "attrs==19.2.0\n",
      "Babel==2.7.0\n",
      "backcall==0.1.0\n",
      "backports.functools-lru-cache==1.5\n",
      "backports.os==0.1.1\n",
      "backports.shutil-get-terminal-size==1.0.0\n",
      "backports.tempfile==1.0\n",
      "backports.weakref==1.0.post1\n",
      "beautifulsoup4==4.8.0\n",
      "bitarray==1.0.1\n",
      "bkcharts==0.2\n",
      "bleach==3.1.0\n",
      "blis==0.4.1\n",
      "bokeh==1.3.4\n",
      "boto==2.49.0\n",
      "Bottleneck==1.2.1\n",
      "cachetools==4.0.0\n",
      "Camelot==12.6.29\n",
      "camelot-py==0.7.3\n",
      "catalogue==1.0.0\n",
      "certifi==2019.9.11\n",
      "cffi==1.12.3\n",
      "chardet==3.0.4\n",
      "Click==7.0\n",
      "cloudpickle==1.2.2\n",
      "clyent==1.2.2\n",
      "colorama==0.4.1\n",
      "comtypes==1.1.7\n",
      "conda==4.8.2\n",
      "conda-build==3.18.9\n",
      "conda-package-handling==1.6.0\n",
      "conda-verify==3.4.2\n",
      "contextlib2==0.6.0\n",
      "cryptography==2.7\n",
      "cvlib==0.2.3\n",
      "cycler==0.10.0\n",
      "cymem==2.0.3\n",
      "Cython==0.29.13\n",
      "cytoolz==0.10.0\n",
      "dask==2.5.2\n",
      "decorator==4.4.0\n",
      "defusedxml==0.6.0\n",
      "distributed==2.5.2\n",
      "distro==1.4.0\n",
      "docopt==0.6.2\n",
      "docutils==0.15.2\n",
      "elasticsearch==7.5.1\n",
      "Elixir==0.7.1\n",
      "en-core-web-sm==2.2.5\n",
      "entrypoints==0.3\n",
      "et-xmlfile==1.0.1\n",
      "fastcache==1.1.0\n",
      "feedparser==5.2.1\n",
      "filelock==3.0.12\n",
      "Flask==1.1.1\n",
      "fsspec==0.5.2\n",
      "future==0.17.1\n",
      "fuzzywuzzy==0.17.0\n",
      "gast==0.2.2\n",
      "gevent==1.4.0\n",
      "glob2==0.7\n",
      "google==2.0.3\n",
      "google-auth==1.10.0\n",
      "google-auth-oauthlib==0.4.1\n",
      "google-pasta==0.1.8\n",
      "googletrans==2.4.0\n",
      "greenlet==0.4.15\n",
      "grpcio==1.26.0\n",
      "gTTS==2.1.1\n",
      "gTTS-token==1.1.3\n",
      "h5py==2.9.0\n",
      "HeapDict==1.0.1\n",
      "html5lib==1.0.1\n",
      "idna==2.8\n",
      "imageai==2.0.1\n",
      "imageio==2.6.0\n",
      "imagesize==1.1.0\n",
      "importlib-metadata==0.23\n",
      "imutils==0.5.3\n",
      "inflect==4.1.0\n",
      "ipykernel==5.1.2\n",
      "ipython==7.8.0\n",
      "ipython-genutils==0.2.0\n",
      "ipywidgets==7.5.1\n",
      "isort==4.3.21\n",
      "itsdangerous==1.1.0\n",
      "jdcal==1.4.1\n",
      "jedi==0.15.1\n",
      "Jinja2==2.10.3\n",
      "joblib==0.13.2\n",
      "Js2Py==0.67\n",
      "json5==0.8.5\n",
      "jsonschema==3.0.2\n",
      "jupyter==1.0.0\n",
      "jupyter-client==5.3.3\n",
      "jupyter-console==6.0.0\n",
      "jupyter-core==4.5.0\n",
      "jupyterlab==1.1.4\n",
      "jupyterlab-server==1.0.6\n",
      "Keras==2.3.1\n",
      "Keras-Applications==1.0.8\n",
      "Keras-Preprocessing==1.1.0\n",
      "keyring==18.0.0\n",
      "kiwisolver==1.1.0\n",
      "lazy-object-proxy==1.4.2\n",
      "libarchive-c==2.8\n",
      "llvmlite==0.29.0\n",
      "locket==0.2.0\n",
      "lxml==4.4.1\n",
      "Markdown==3.1.1\n",
      "MarkupSafe==1.1.1\n",
      "matplotlib==3.1.1\n",
      "mccabe==0.6.1\n",
      "menuinst==1.4.16\n",
      "mistune==0.8.4\n",
      "mkl-fft==1.0.14\n",
      "mkl-random==1.1.0\n",
      "mkl-service==2.3.0\n",
      "mock==3.0.5\n",
      "more-itertools==7.2.0\n",
      "mpmath==1.1.0\n",
      "msgpack==0.6.1\n",
      "multipledispatch==0.6.0\n",
      "murmurhash==1.0.0\n",
      "mysql-connector-python==8.0.19\n",
      "navigator-updater==0.2.1\n",
      "nbconvert==5.6.0\n",
      "nbformat==4.4.0\n",
      "networkx==2.3\n",
      "nltk==3.4.5\n",
      "nose==1.3.7\n",
      "notebook==6.0.1\n",
      "num2words==0.5.10\n",
      "numba==0.45.1\n",
      "numexpr==2.7.0\n",
      "numpy==1.16.5\n",
      "numpydoc==0.9.1\n",
      "oauthlib==3.1.0\n",
      "olefile==0.46\n",
      "opencv-python==4.1.2.30\n",
      "openpyxl==3.0.0\n",
      "opt-einsum==3.1.0\n",
      "packaging==19.2\n",
      "pandas==0.25.1\n",
      "pandocfilters==1.4.2\n",
      "parsedatetime==2.4\n",
      "parso==0.5.1\n",
      "partd==1.0.0\n",
      "path.py==12.0.1\n",
      "pathlib2==2.3.5\n",
      "patsy==0.5.1\n",
      "pbr==5.4.4\n",
      "pdf2image==1.12.1\n",
      "pdfminer.six==20200124\n",
      "pep8==1.7.1\n",
      "pickleshare==0.7.5\n",
      "Pillow==6.2.0\n",
      "pipwin==0.4.6\n",
      "pkginfo==1.5.0.1\n",
      "plac==0.9.6\n",
      "plotly==4.4.1\n",
      "pluggy==0.13.0\n",
      "ply==3.11\n",
      "preshed==3.0.2\n",
      "progressbar==2.5\n",
      "prometheus-client==0.7.1\n",
      "prompt-toolkit==2.0.10\n",
      "protobuf==3.11.2\n",
      "psutil==5.6.3\n",
      "py==1.8.0\n",
      "pyasn1==0.4.8\n",
      "pyasn1-modules==0.2.7\n",
      "PyAudio==0.2.11\n",
      "pycodestyle==2.5.0\n",
      "pycosat==0.6.3\n",
      "pycparser==2.19\n",
      "pycrypto==2.6.1\n",
      "pycryptodome==3.9.7\n",
      "pycurl==7.43.0.3\n",
      "pyflakes==2.1.1\n",
      "Pygments==2.4.2\n",
      "pyjsparser==2.7.1\n",
      "pylint==2.4.2\n",
      "pyodbc==4.0.27\n",
      "pyOpenSSL==19.0.0\n",
      "pyparsing==2.4.2\n",
      "PyPDF2==1.26.0\n",
      "PyPrind==2.11.2\n",
      "pyreadline==2.1\n",
      "pyrsistent==0.15.4\n",
      "PySocks==1.7.1\n",
      "pytesseract==0.3.2\n",
      "pytest==5.2.1\n",
      "pytest-arraydiff==0.3\n",
      "pytest-astropy==0.5.0\n",
      "pytest-doctestplus==0.4.0\n",
      "pytest-openfiles==0.4.0\n",
      "pytest-remotedata==0.3.2\n",
      "python-dateutil==2.8.0\n",
      "python-Levenshtein==0.12.0\n",
      "pytz==2019.3\n",
      "PyWavelets==1.0.3\n",
      "pywin32==223\n",
      "pywinpty==0.5.5\n",
      "PyYAML==5.1.2\n",
      "pyzmq==18.1.0\n",
      "QtAwesome==0.6.0\n",
      "qtconsole==4.5.5\n",
      "QtPy==1.9.0\n",
      "quantulum==0.1.13\n",
      "quantulum3==0.7.3\n",
      "requests==2.22.0\n",
      "requests-oauthlib==1.3.0\n",
      "retrying==1.3.3\n",
      "robobrowser==0.5.3\n",
      "rope==0.14.0\n",
      "rsa==4.0\n",
      "ruamel-yaml==0.15.46\n",
      "scikit-image==0.15.0\n",
      "scikit-learn==0.21.3\n",
      "scipy==1.3.1\n",
      "seaborn==0.9.0\n",
      "Send2Trash==1.5.0\n",
      "simplegeneric==0.8.1\n",
      "singledispatch==3.4.0.3\n",
      "six==1.12.0\n",
      "snowballstemmer==2.0.0\n",
      "sortedcollections==1.1.2\n",
      "sortedcontainers==2.1.0\n",
      "soupsieve==1.9.3\n",
      "spacy==2.2.3\n",
      "SpeechRecognition==3.8.1\n",
      "Sphinx==2.2.0\n",
      "sphinxcontrib-applehelp==1.0.1\n",
      "sphinxcontrib-devhelp==1.0.1\n",
      "sphinxcontrib-htmlhelp==1.0.2\n",
      "sphinxcontrib-jsmath==1.0.1\n",
      "sphinxcontrib-qthelp==1.0.2\n",
      "sphinxcontrib-serializinghtml==1.1.3\n",
      "sphinxcontrib-websupport==1.1.2\n",
      "spyder==3.3.6\n",
      "spyder-kernels==0.5.2\n",
      "SQLAlchemy==0.7.10\n",
      "sqlalchemy-migrate==0.13.0\n",
      "sqlparse==0.3.0\n",
      "srsly==1.0.0\n",
      "statsmodels==0.10.1\n",
      "stemming==1.0.1\n",
      "sympy==1.4\n",
      "tables==3.5.2\n",
      "tabula-py==2.0.4\n",
      "tblib==1.4.0\n",
      "Tempita==0.5.2\n",
      "tensorboard==1.14.0\n",
      "tensorflow==1.14.0\n",
      "tensorflow-estimator==1.14.0\n",
      "termcolor==1.1.0\n",
      "terminado==0.8.2\n",
      "tesseract==0.1.3\n",
      "testpath==0.4.2\n",
      "textblob==0.15.3\n",
      "thinc==7.3.0\n",
      "toolz==0.10.0\n",
      "tornado==6.0.3\n",
      "tqdm==4.36.1\n",
      "traitlets==4.3.3\n",
      "tweepy==3.8.0\n",
      "tzlocal==2.0.0\n",
      "unicodecsv==0.14.1\n",
      "urllib3==1.24.2\n",
      "wasabi==0.6.0\n",
      "wcwidth==0.1.7\n",
      "webencodings==0.5.1\n",
      "Werkzeug==0.16.0\n",
      "widgetsnbextension==3.5.1\n",
      "wikipedia==1.4.0\n",
      "win-inet-pton==1.1.0\n",
      "win-unicode-console==0.5\n",
      "wincertstore==0.2\n",
      "wrapt==1.11.2\n",
      "xlrd==0.7.1\n",
      "XlsxWriter==1.2.1\n",
      "xlwings==0.15.10\n",
      "xlwt==0.7.2\n",
      "zict==1.0.0\n",
      "zipp==0.6.0\n"
     ]
    }
   ],
   "source": [
    "!pip3 freeze"
   ]
  },
  {
   "cell_type": "code",
   "execution_count": null,
   "metadata": {
    "collapsed": true
   },
   "outputs": [],
   "source": []
  }
 ],
 "metadata": {
  "kernelspec": {
   "display_name": "Python 3",
   "language": "python",
   "name": "python3"
  },
  "language_info": {
   "codemirror_mode": {
    "name": "ipython",
    "version": 3
   },
   "file_extension": ".py",
   "mimetype": "text/x-python",
   "name": "python",
   "nbconvert_exporter": "python",
   "pygments_lexer": "ipython3",
   "version": "3.7.4"
  }
 },
 "nbformat": 4,
 "nbformat_minor": 2
}
